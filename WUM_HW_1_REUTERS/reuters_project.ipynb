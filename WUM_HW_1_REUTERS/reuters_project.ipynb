{
 "nbformat": 4,
 "nbformat_minor": 0,
 "metadata": {
  "colab": {
   "provenance": []
  },
  "kernelspec": {
   "name": "python3",
   "display_name": "Python 3"
  },
  "language_info": {
   "name": "python"
  }
 },
 "cells": [
  {
   "cell_type": "markdown",
   "source": [
    "Libraries"
   ],
   "metadata": {
    "id": "uuQYEVnln7mt"
   }
  },
  {
   "cell_type": "code",
   "source": [
    "import numpy as np\n",
    "import matplotlib.pyplot as plt\n",
    "import tensorflow as tf\n",
    "from tensorflow import keras\n",
    "from keras import layers\n",
    "from keras import models\n",
    "from keras.datasets import reuters\n",
    "from keras import regularizers\n",
    "from itertools import islice\n",
    "from keras.utils import to_categorical\n",
    "from sklearn.model_selection import GridSearchCV\n",
    "from sklearn.model_selection import KFold\n",
    "from scikeras.wrappers import KerasClassifier\n",
    "from scikeras.wrappers import KerasRegressor\n",
    "from keras.models import Sequential\n",
    "from keras.layers import Dense\n",
    "import matplotlib.pyplot as plt\n",
    "import seaborn as sns\n",
    "from sklearn.model_selection import train_test_split\n",
    "from sklearn.metrics import accuracy_score, precision_score, recall_score, f1_score, classification_report, confusion_matrix"
   ],
   "metadata": {
    "id": "HGWvgMlt2w2v"
   },
   "execution_count": 2,
   "outputs": []
  },
  {
   "cell_type": "markdown",
   "source": [
    "Data ingestion"
   ],
   "metadata": {
    "id": "WERVBHmpn6Av"
   }
  },
  {
   "cell_type": "code",
   "source": [
    "NUM_WORDS = 10000"
   ],
   "metadata": {
    "id": "IuInqDME22hZ"
   },
   "execution_count": null,
   "outputs": []
  },
  {
   "cell_type": "code",
   "source": [
    "(X_train, y_train), (X_test, y_test) = reuters.load_data(num_words=NUM_WORDS)"
   ],
   "metadata": {
    "id": "IaoQxDoSmGHK"
   },
   "execution_count": null,
   "outputs": []
  },
  {
   "cell_type": "code",
   "source": [
    "print(\"Lenght X_train:\", len(X_train))\n",
    "print(\"Lenght X_test:\", len(X_test))\n",
    "\n",
    "print(\"Lenght y_train:\", len(y_train))\n",
    "print(\"Lenght y_test:\", len(y_test))"
   ],
   "metadata": {
    "colab": {
     "base_uri": "https://localhost:8080/"
    },
    "id": "fvg0kroOmuCg",
    "outputId": "1742dbcb-4f46-477f-f491-667285193cd7"
   },
   "execution_count": null,
   "outputs": [
    {
     "output_type": "stream",
     "name": "stdout",
     "text": [
      "Lenght X_train: 8982\n",
      "Lenght X_test: 2246\n",
      "Lenght y_train: 8982\n",
      "Lenght y_test: 2246\n"
     ]
    }
   ]
  },
  {
   "cell_type": "code",
   "source": [
    "print(X_train[0])"
   ],
   "metadata": {
    "colab": {
     "base_uri": "https://localhost:8080/"
    },
    "id": "0ji7ydxcmenP",
    "outputId": "e9d186a5-f842-486b-fd66-7a344a025e4d"
   },
   "execution_count": null,
   "outputs": [
    {
     "output_type": "stream",
     "name": "stdout",
     "text": [
      "[1, 2, 2, 8, 43, 10, 447, 5, 25, 207, 270, 5, 3095, 111, 16, 369, 186, 90, 67, 7, 89, 5, 19, 102, 6, 19, 124, 15, 90, 67, 84, 22, 482, 26, 7, 48, 4, 49, 8, 864, 39, 209, 154, 6, 151, 6, 83, 11, 15, 22, 155, 11, 15, 7, 48, 9, 4579, 1005, 504, 6, 258, 6, 272, 11, 15, 22, 134, 44, 11, 15, 16, 8, 197, 1245, 90, 67, 52, 29, 209, 30, 32, 132, 6, 109, 15, 17, 12]\n"
     ]
    }
   ]
  },
  {
   "cell_type": "code",
   "source": [
    "print(y_train[0])"
   ],
   "metadata": {
    "colab": {
     "base_uri": "https://localhost:8080/"
    },
    "id": "-RuR1rrkmjnQ",
    "outputId": "f567d262-620e-4a8b-9c06-48257874602f"
   },
   "execution_count": null,
   "outputs": [
    {
     "output_type": "stream",
     "name": "stdout",
     "text": [
      "3\n"
     ]
    }
   ]
  },
  {
   "cell_type": "code",
   "source": [
    "words_dict = reuters.get_word_index()\n",
    "limited_words_dict = dict(islice(words_dict.items(), 5))\n",
    "print(limited_words_dict)"
   ],
   "metadata": {
    "colab": {
     "base_uri": "https://localhost:8080/"
    },
    "id": "4pVRHNYUoIFl",
    "outputId": "4903622e-f282-43f7-8e1c-b97b6bbffb1f"
   },
   "execution_count": null,
   "outputs": [
    {
     "output_type": "stream",
     "name": "stdout",
     "text": [
      "{'mdbl': 10996, 'fawc': 16260, 'degussa': 12089, 'woods': 8803, 'hanging': 13796}\n"
     ]
    }
   ]
  },
  {
   "cell_type": "code",
   "source": [
    "reversed_words_dict = dict([(value, key) for (key, value) in words_dict.items()])\n",
    "decoded_dict = \" \".join([reversed_words_dict.get(i - 3, '?') for i in X_train[0]])\n",
    "decoded_dict"
   ],
   "metadata": {
    "colab": {
     "base_uri": "https://localhost:8080/",
     "height": 70
    },
    "id": "prvjb1kyo20t",
    "outputId": "1a32345a-7ad8-4207-9012-0a05fed40333"
   },
   "execution_count": null,
   "outputs": [
    {
     "output_type": "execute_result",
     "data": {
      "text/plain": [
       "'? ? ? said as a result of its december acquisition of space co it expects earnings per share in 1987 of 1 15 to 1 30 dlrs per share up from 70 cts in 1986 the company said pretax net should rise to nine to 10 mln dlrs from six mln dlrs in 1986 and rental operation revenues to 19 to 22 mln dlrs from 12 5 mln dlrs it said cash flow per share this year should be 2 50 to three dlrs reuter 3'"
      ],
      "application/vnd.google.colaboratory.intrinsic+json": {
       "type": "string"
      }
     },
     "metadata": {},
     "execution_count": 8
    }
   ]
  },
  {
   "cell_type": "code",
   "source": [
    "decoded_y = reuters.get_label_names()\n",
    "\n",
    "print(\"Labels in Reuters:\")\n",
    "for index, label_name in enumerate(decoded_y):\n",
    "    print(f\"{index + 1}. {label_name}\")"
   ],
   "metadata": {
    "colab": {
     "base_uri": "https://localhost:8080/"
    },
    "id": "at5G827h0GZW",
    "outputId": "0f184326-7e08-4864-96ba-c5fcd839636d"
   },
   "execution_count": null,
   "outputs": [
    {
     "output_type": "stream",
     "name": "stdout",
     "text": [
      "Labels in Reuters:\n",
      "1. cocoa\n",
      "2. grain\n",
      "3. veg-oil\n",
      "4. earn\n",
      "5. acq\n",
      "6. wheat\n",
      "7. copper\n",
      "8. housing\n",
      "9. money-supply\n",
      "10. coffee\n",
      "11. sugar\n",
      "12. trade\n",
      "13. reserves\n",
      "14. ship\n",
      "15. cotton\n",
      "16. carcass\n",
      "17. crude\n",
      "18. nat-gas\n",
      "19. cpi\n",
      "20. money-fx\n",
      "21. interest\n",
      "22. gnp\n",
      "23. meal-feed\n",
      "24. alum\n",
      "25. oilseed\n",
      "26. gold\n",
      "27. tin\n",
      "28. strategic-metal\n",
      "29. livestock\n",
      "30. retail\n",
      "31. ipi\n",
      "32. iron-steel\n",
      "33. rubber\n",
      "34. heat\n",
      "35. jobs\n",
      "36. lei\n",
      "37. bop\n",
      "38. zinc\n",
      "39. orange\n",
      "40. pet-chem\n",
      "41. dlr\n",
      "42. gas\n",
      "43. silver\n",
      "44. wpi\n",
      "45. hog\n",
      "46. lead\n"
     ]
    }
   ]
  },
  {
   "cell_type": "code",
   "source": [
    "def vectorize_sequences(sequences, dimension=10000):\n",
    "    results = np.zeros((len(sequences), dimension))\n",
    "    for i, sequence in enumerate(sequences):\n",
    "        results[i, sequence] = 1\n",
    "    return results\n",
    "\n",
    "\n",
    "X_train = vectorize_sequences(X_train)\n",
    "X_test = vectorize_sequences(X_test)\n",
    "\n",
    "print(f'X_train sample : {X_train[0]}')\n",
    "print(f'X_test sample : {X_test[0]}')"
   ],
   "metadata": {
    "colab": {
     "base_uri": "https://localhost:8080/"
    },
    "id": "CbcUsB5x07qE",
    "outputId": "a739821b-f642-4094-9d99-3c69ac1d24ab"
   },
   "execution_count": null,
   "outputs": [
    {
     "output_type": "stream",
     "name": "stdout",
     "text": [
      "X_train sample : [0. 1. 1. ... 0. 0. 0.]\n",
      "X_test sample : [0. 1. 1. ... 0. 0. 0.]\n"
     ]
    }
   ]
  },
  {
   "cell_type": "code",
   "source": [
    "print(f'X_train shape : {X_train.shape}')\n",
    "print(f'X_test shape : {X_test.shape}')"
   ],
   "metadata": {
    "colab": {
     "base_uri": "https://localhost:8080/"
    },
    "id": "ARwk3PKA2BRm",
    "outputId": "da29ab4a-5707-4920-d766-eb607da63356"
   },
   "execution_count": null,
   "outputs": [
    {
     "output_type": "stream",
     "name": "stdout",
     "text": [
      "X_train shape : (8982, 10000)\n",
      "X_test shape : (2246, 10000)\n"
     ]
    }
   ]
  },
  {
   "cell_type": "code",
   "source": [
    "def to_one_hot(labels, dimension=46):\n",
    "    results = np.zeros((len(labels), dimension))\n",
    "    for i,label in enumerate(labels):\n",
    "        results[i,label] = 1\n",
    "    return results\n",
    "\n",
    "one_hot_train_labels = to_categorical(y_train)\n",
    "one_hot_test_labels = to_categorical(y_test)\n",
    "\n",
    "print(f'one_hot_train_labels sample : {one_hot_train_labels[0]}')"
   ],
   "metadata": {
    "colab": {
     "base_uri": "https://localhost:8080/"
    },
    "id": "SD-Zfc_h-ug9",
    "outputId": "7db8307d-1170-4f83-f59b-db5f11584e9f"
   },
   "execution_count": null,
   "outputs": [
    {
     "output_type": "stream",
     "name": "stdout",
     "text": [
      "one_hot_train_labels sample : [0. 0. 0. 1. 0. 0. 0. 0. 0. 0. 0. 0. 0. 0. 0. 0. 0. 0. 0. 0. 0. 0. 0. 0.\n",
      " 0. 0. 0. 0. 0. 0. 0. 0. 0. 0. 0. 0. 0. 0. 0. 0. 0. 0. 0. 0. 0. 0.]\n"
     ]
    }
   ]
  },
  {
   "cell_type": "code",
   "source": [
    "X_train_val, X_val, y_train_val, y_val = train_test_split(X_train, one_hot_train_labels, test_size=0.25, random_state=42)\n",
    "\n",
    "print(\"x_val \", X_val.shape)\n",
    "print(\"y_val \", y_val.shape)\n",
    "\n",
    "print(\"X_train_val \", X_train_val.shape)\n",
    "print(\"y_train_val \", y_train_val.shape)"
   ],
   "metadata": {
    "colab": {
     "base_uri": "https://localhost:8080/"
    },
    "id": "u04BuSVtH1LX",
    "outputId": "59556a51-2c20-4329-de8e-7cbd723b741c"
   },
   "execution_count": null,
   "outputs": [
    {
     "output_type": "stream",
     "name": "stdout",
     "text": [
      "x_val  (2246, 10000)\n",
      "y_val  (2246, 46)\n",
      "X_train_val  (6736, 10000)\n",
      "y_train_val  (6736, 46)\n"
     ]
    }
   ]
  },
  {
   "cell_type": "code",
   "source": [
    "def count_label_occurrences(labels):\n",
    "    unique_labels, occurrences = np.unique(labels, return_counts=True)\n",
    "    return dict(zip(unique_labels, occurrences))\n",
    "\n",
    "train_occurrences = count_label_occurrences(y_train_val)\n",
    "val_occurrences = count_label_occurrences(y_val)\n",
    "\n",
    "print(\"Occurrences of labels in training set:\", train_occurrences)\n",
    "print(\"Occurrences of labels in validation set:\", val_occurrences)"
   ],
   "metadata": {
    "colab": {
     "base_uri": "https://localhost:8080/"
    },
    "id": "GjJR8Z0cB5QC",
    "outputId": "08c7265a-3610-4796-aeea-fcc4697c360e"
   },
   "execution_count": null,
   "outputs": [
    {
     "output_type": "stream",
     "name": "stdout",
     "text": [
      "Occurrences of labels in training set: {0.0: 303120, 1.0: 6736}\n",
      "Occurrences of labels in validation set: {0.0: 101070, 1.0: 2246}\n"
     ]
    }
   ]
  },
  {
   "cell_type": "markdown",
   "source": [
    "Class distribution"
   ],
   "metadata": {
    "id": "K2G3C_o3F_gr"
   }
  },
  {
   "cell_type": "code",
   "source": [
    "unique_classes_train = np.sum(y_train_val, axis=0) / y_train_val.shape[0] * 100\n",
    "\n",
    "plt.bar(np.arange(len(unique_classes_train)), unique_classes_train)\n",
    "plt.xlabel('Class Label')\n",
    "plt.ylabel('Label % in dataset')\n",
    "plt.title('Class Distribution in Reuters Train_val Dataset')\n",
    "\n",
    "plt.show()"
   ],
   "metadata": {
    "colab": {
     "base_uri": "https://localhost:8080/",
     "height": 472
    },
    "id": "zIYFipRJGBVy",
    "outputId": "9167a208-c316-4408-c55c-e2cffa0c118a"
   },
   "execution_count": null,
   "outputs": [
    {
     "output_type": "display_data",
     "data": {
      "text/plain": [
       "<Figure size 640x480 with 1 Axes>"
      ],
      "image/png": "[encoded data removed]"
     },
     "metadata": {}
    }
   ]
  },
  {
   "cell_type": "code",
   "source": [
    "unique_classes_test = np.sum(y_val, axis=0) / y_val.shape[0] * 100\n",
    "\n",
    "plt.bar(np.arange(len(unique_classes_test)), unique_classes_test)\n",
    "plt.xlabel('Class Label')\n",
    "plt.ylabel('Label % in dataset')\n",
    "plt.title('Class Distribution in Reuters test_val Dataset')\n",
    "\n",
    "plt.show()"
   ],
   "metadata": {
    "colab": {
     "base_uri": "https://localhost:8080/",
     "height": 472
    },
    "id": "zeCoeWLuGPpg",
    "outputId": "c5dc7029-0aa6-4085-ba0f-e9d952c2518e"
   },
   "execution_count": null,
   "outputs": [
    {
     "output_type": "display_data",
     "data": {
      "text/plain": [
       "<Figure size 640x480 with 1 Axes>"
      ],
      "image/png": "[encoded data removed]"
     },
     "metadata": {}
    }
   ]
  },
  {
   "cell_type": "markdown",
   "source": [
    "Building the network"
   ],
   "metadata": {
    "id": "gV3rd-yADWNE"
   }
  },
  {
   "cell_type": "code",
   "source": [
    "def create_model(optimizer='adam', activation='relu', epochs=8, batch_size=256):\n",
    "    model = Sequential()\n",
    "    model.add(Dense(128, activation=activation, input_shape=(10000,), kernel_regularizer=regularizers.l2(0.001)))\n",
    "    model.add(Dense(64, activation=activation, kernel_regularizer=regularizers.l2(0.001)))\n",
    "    model.add(Dense(32, activation=activation, kernel_regularizer=regularizers.l2(0.001)))\n",
    "    model.add(Dense(16, activation=activation, kernel_regularizer=regularizers.l2(0.001)))\n",
    "    model.add(Dense(46, activation='softmax'))\n",
    "    model.compile(optimizer=optimizer, loss='categorical_crossentropy', metrics=['accuracy'])\n",
    "    return model"
   ],
   "metadata": {
    "id": "Ilzjw1rlDaNI"
   },
   "execution_count": null,
   "outputs": []
  },
  {
   "cell_type": "markdown",
   "source": [
    "GridSearchCV"
   ],
   "metadata": {
    "id": "fU0TiuJ-qV-8"
   }
  },
  {
   "cell_type": "code",
   "source": [
    "param_grid = {\n",
    "    'build_fn': [create_model],\n",
    "    'optimizer': ['adam', 'rmsprop'],\n",
    "    'epochs': [8, 16],\n",
    "    'batch_size': [256, 512]\n",
    "}\n",
    "\n",
    "grid = GridSearchCV(estimator=KerasClassifier(verbose=0),\n",
    "                    param_grid=param_grid, cv=KFold(n_splits=3), verbose=1)\n",
    "\n",
    "grid_result = grid.fit(X_train_val, y_train_val)\n",
    "\n",
    "print(\"Best: %f using %s\" % (grid_result.best_score_, grid_result.best_params_))"
   ],
   "metadata": {
    "colab": {
     "base_uri": "https://localhost:8080/"
    },
    "id": "4K5xHTwoEJGT",
    "outputId": "61372529-4357-45b3-950d-4425586c7a30"
   },
   "execution_count": null,
   "outputs": [
    {
     "output_type": "stream",
     "name": "stdout",
     "text": [
      "Fitting 3 folds for each of 8 candidates, totalling 24 fits\n"
     ]
    },
    {
     "output_type": "stream",
     "name": "stderr",
     "text": [
      "/usr/local/lib/python3.10/dist-packages/scikeras/wrappers.py:915: UserWarning: ``build_fn`` will be renamed to ``model`` in a future release, at which point use of ``build_fn`` will raise an Error instead.\n",
      "  X, y = self._initialize(X, y)\n",
      "/usr/local/lib/python3.10/dist-packages/scikeras/wrappers.py:915: UserWarning: ``build_fn`` will be renamed to ``model`` in a future release, at which point use of ``build_fn`` will raise an Error instead.\n",
      "  X, y = self._initialize(X, y)\n",
      "/usr/local/lib/python3.10/dist-packages/scikeras/wrappers.py:915: UserWarning: ``build_fn`` will be renamed to ``model`` in a future release, at which point use of ``build_fn`` will raise an Error instead.\n",
      "  X, y = self._initialize(X, y)\n",
      "/usr/local/lib/python3.10/dist-packages/scikeras/wrappers.py:915: UserWarning: ``build_fn`` will be renamed to ``model`` in a future release, at which point use of ``build_fn`` will raise an Error instead.\n",
      "  X, y = self._initialize(X, y)\n",
      "/usr/local/lib/python3.10/dist-packages/scikeras/wrappers.py:915: UserWarning: ``build_fn`` will be renamed to ``model`` in a future release, at which point use of ``build_fn`` will raise an Error instead.\n",
      "  X, y = self._initialize(X, y)\n",
      "/usr/local/lib/python3.10/dist-packages/scikeras/wrappers.py:915: UserWarning: ``build_fn`` will be renamed to ``model`` in a future release, at which point use of ``build_fn`` will raise an Error instead.\n",
      "  X, y = self._initialize(X, y)\n",
      "/usr/local/lib/python3.10/dist-packages/scikeras/wrappers.py:915: UserWarning: ``build_fn`` will be renamed to ``model`` in a future release, at which point use of ``build_fn`` will raise an Error instead.\n",
      "  X, y = self._initialize(X, y)\n",
      "/usr/local/lib/python3.10/dist-packages/scikeras/wrappers.py:915: UserWarning: ``build_fn`` will be renamed to ``model`` in a future release, at which point use of ``build_fn`` will raise an Error instead.\n",
      "  X, y = self._initialize(X, y)\n",
      "/usr/local/lib/python3.10/dist-packages/scikeras/wrappers.py:915: UserWarning: ``build_fn`` will be renamed to ``model`` in a future release, at which point use of ``build_fn`` will raise an Error instead.\n",
      "  X, y = self._initialize(X, y)\n",
      "/usr/local/lib/python3.10/dist-packages/scikeras/wrappers.py:915: UserWarning: ``build_fn`` will be renamed to ``model`` in a future release, at which point use of ``build_fn`` will raise an Error instead.\n",
      "  X, y = self._initialize(X, y)\n",
      "/usr/local/lib/python3.10/dist-packages/scikeras/wrappers.py:915: UserWarning: ``build_fn`` will be renamed to ``model`` in a future release, at which point use of ``build_fn`` will raise an Error instead.\n",
      "  X, y = self._initialize(X, y)\n",
      "/usr/local/lib/python3.10/dist-packages/scikeras/wrappers.py:915: UserWarning: ``build_fn`` will be renamed to ``model`` in a future release, at which point use of ``build_fn`` will raise an Error instead.\n",
      "  X, y = self._initialize(X, y)\n",
      "/usr/local/lib/python3.10/dist-packages/scikeras/wrappers.py:915: UserWarning: ``build_fn`` will be renamed to ``model`` in a future release, at which point use of ``build_fn`` will raise an Error instead.\n",
      "  X, y = self._initialize(X, y)\n",
      "/usr/local/lib/python3.10/dist-packages/scikeras/wrappers.py:915: UserWarning: ``build_fn`` will be renamed to ``model`` in a future release, at which point use of ``build_fn`` will raise an Error instead.\n",
      "  X, y = self._initialize(X, y)\n",
      "/usr/local/lib/python3.10/dist-packages/scikeras/wrappers.py:915: UserWarning: ``build_fn`` will be renamed to ``model`` in a future release, at which point use of ``build_fn`` will raise an Error instead.\n",
      "  X, y = self._initialize(X, y)\n",
      "/usr/local/lib/python3.10/dist-packages/scikeras/wrappers.py:915: UserWarning: ``build_fn`` will be renamed to ``model`` in a future release, at which point use of ``build_fn`` will raise an Error instead.\n",
      "  X, y = self._initialize(X, y)\n",
      "/usr/local/lib/python3.10/dist-packages/scikeras/wrappers.py:915: UserWarning: ``build_fn`` will be renamed to ``model`` in a future release, at which point use of ``build_fn`` will raise an Error instead.\n",
      "  X, y = self._initialize(X, y)\n",
      "/usr/local/lib/python3.10/dist-packages/scikeras/wrappers.py:915: UserWarning: ``build_fn`` will be renamed to ``model`` in a future release, at which point use of ``build_fn`` will raise an Error instead.\n",
      "  X, y = self._initialize(X, y)\n",
      "/usr/local/lib/python3.10/dist-packages/scikeras/wrappers.py:915: UserWarning: ``build_fn`` will be renamed to ``model`` in a future release, at which point use of ``build_fn`` will raise an Error instead.\n",
      "  X, y = self._initialize(X, y)\n",
      "/usr/local/lib/python3.10/dist-packages/scikeras/wrappers.py:915: UserWarning: ``build_fn`` will be renamed to ``model`` in a future release, at which point use of ``build_fn`` will raise an Error instead.\n",
      "  X, y = self._initialize(X, y)\n",
      "/usr/local/lib/python3.10/dist-packages/scikeras/wrappers.py:915: UserWarning: ``build_fn`` will be renamed to ``model`` in a future release, at which point use of ``build_fn`` will raise an Error instead.\n",
      "  X, y = self._initialize(X, y)\n",
      "/usr/local/lib/python3.10/dist-packages/scikeras/wrappers.py:915: UserWarning: ``build_fn`` will be renamed to ``model`` in a future release, at which point use of ``build_fn`` will raise an Error instead.\n",
      "  X, y = self._initialize(X, y)\n",
      "/usr/local/lib/python3.10/dist-packages/scikeras/wrappers.py:915: UserWarning: ``build_fn`` will be renamed to ``model`` in a future release, at which point use of ``build_fn`` will raise an Error instead.\n",
      "  X, y = self._initialize(X, y)\n",
      "/usr/local/lib/python3.10/dist-packages/scikeras/wrappers.py:915: UserWarning: ``build_fn`` will be renamed to ``model`` in a future release, at which point use of ``build_fn`` will raise an Error instead.\n",
      "  X, y = self._initialize(X, y)\n",
      "/usr/local/lib/python3.10/dist-packages/scikeras/wrappers.py:915: UserWarning: ``build_fn`` will be renamed to ``model`` in a future release, at which point use of ``build_fn`` will raise an Error instead.\n",
      "  X, y = self._initialize(X, y)\n"
     ]
    },
    {
     "output_type": "stream",
     "name": "stdout",
     "text": [
      "Best: 0.733670 using {'batch_size': 256, 'build_fn': <function create_model at 0x7becea8f15a0>, 'epochs': 8, 'optimizer': 'rmsprop'}\n"
     ]
    }
   ]
  },
  {
   "cell_type": "markdown",
   "source": [
    "Best parameters"
   ],
   "metadata": {
    "id": "yfqqXrGsqbkt"
   }
  },
  {
   "cell_type": "code",
   "source": [
    "best_activation = 'relu'\n",
    "best_optimizer = 'rmsprop'\n",
    "best_epochs = 16\n",
    "best_batch_size = 256\n",
    "\n",
    "best_model = create_model(activation=best_activation, optimizer=best_optimizer, epochs=best_epochs, batch_size=best_batch_size)\n",
    "\n",
    "history = best_model.fit(X_train_val, y_train_val, epochs=best_epochs, batch_size=best_batch_size, validation_data=(X_val, y_val))\n",
    "\n",
    "test_results = best_model.evaluate(X_test, one_hot_test_labels)\n",
    "print(\"*\" * 100)\n",
    "print(\"Test Results: Loss and Accuracy\")\n",
    "print(\"Results:\", test_results)\n",
    "\n",
    "training_history_dict = history.history\n",
    "print(\"Training History Keys:\", training_history_dict.keys())"
   ],
   "metadata": {
    "colab": {
     "base_uri": "https://localhost:8080/"
    },
    "id": "qmGrdRJQcojC",
    "outputId": "2807b49c-136d-47b0-840f-13b80f73c360"
   },
   "execution_count": null,
   "outputs": [
    {
     "output_type": "stream",
     "name": "stdout",
     "text": [
      "Epoch 1/16\n",
      "27/27 [==============================] - 2s 54ms/step - loss: 3.2397 - accuracy: 0.3373 - val_loss: 2.3772 - val_accuracy: 0.5735\n",
      "Epoch 2/16\n",
      "27/27 [==============================] - 1s 35ms/step - loss: 1.9769 - accuracy: 0.6130 - val_loss: 1.8175 - val_accuracy: 0.6394\n",
      "Epoch 3/16\n",
      "27/27 [==============================] - 1s 36ms/step - loss: 1.6001 - accuracy: 0.6943 - val_loss: 1.6681 - val_accuracy: 0.6928\n",
      "Epoch 4/16\n",
      "27/27 [==============================] - 1s 36ms/step - loss: 1.3839 - accuracy: 0.7357 - val_loss: 1.5796 - val_accuracy: 0.7021\n",
      "Epoch 5/16\n",
      "27/27 [==============================] - 1s 36ms/step - loss: 1.2420 - accuracy: 0.7598 - val_loss: 1.5431 - val_accuracy: 0.7137\n",
      "Epoch 6/16\n",
      "27/27 [==============================] - 1s 37ms/step - loss: 1.1338 - accuracy: 0.7858 - val_loss: 1.4852 - val_accuracy: 0.7217\n",
      "Epoch 7/16\n",
      "27/27 [==============================] - 1s 35ms/step - loss: 1.0454 - accuracy: 0.8023 - val_loss: 1.4456 - val_accuracy: 0.7364\n",
      "Epoch 8/16\n",
      "27/27 [==============================] - 1s 36ms/step - loss: 0.9565 - accuracy: 0.8269 - val_loss: 1.4739 - val_accuracy: 0.7355\n",
      "Epoch 9/16\n",
      "27/27 [==============================] - 1s 36ms/step - loss: 0.8786 - accuracy: 0.8465 - val_loss: 1.4300 - val_accuracy: 0.7489\n",
      "Epoch 10/16\n",
      "27/27 [==============================] - 1s 37ms/step - loss: 0.8391 - accuracy: 0.8563 - val_loss: 1.4537 - val_accuracy: 0.7435\n",
      "Epoch 11/16\n",
      "27/27 [==============================] - 1s 56ms/step - loss: 0.7754 - accuracy: 0.8698 - val_loss: 1.4425 - val_accuracy: 0.7573\n",
      "Epoch 12/16\n",
      "27/27 [==============================] - 2s 57ms/step - loss: 0.7321 - accuracy: 0.8824 - val_loss: 1.4883 - val_accuracy: 0.7542\n",
      "Epoch 13/16\n",
      "27/27 [==============================] - 2s 60ms/step - loss: 0.6830 - accuracy: 0.8974 - val_loss: 1.4460 - val_accuracy: 0.7658\n",
      "Epoch 14/16\n",
      "27/27 [==============================] - 2s 58ms/step - loss: 0.6500 - accuracy: 0.9069 - val_loss: 1.5168 - val_accuracy: 0.7609\n",
      "Epoch 15/16\n",
      "27/27 [==============================] - 2s 60ms/step - loss: 0.6254 - accuracy: 0.9127 - val_loss: 1.4958 - val_accuracy: 0.7676\n",
      "Epoch 16/16\n",
      "27/27 [==============================] - 2s 60ms/step - loss: 0.5807 - accuracy: 0.9292 - val_loss: 1.6272 - val_accuracy: 0.7520\n",
      "71/71 [==============================] - 0s 5ms/step - loss: 1.6860 - accuracy: 0.7346\n",
      "****************************************************************************************************\n",
      "Test Results: Loss and Accuracy\n",
      "Results: [1.6859664916992188, 0.7346393465995789]\n",
      "Training History Keys: dict_keys(['loss', 'accuracy', 'val_loss', 'val_accuracy'])\n"
     ]
    }
   ]
  },
  {
   "cell_type": "code",
   "source": [
    "epochs_range = range(1, best_epochs + 1)\n",
    "plt.figure(figsize=(16, 6))\n",
    "\n",
    "plt.subplot(1, 2, 1)\n",
    "plt.plot(epochs_range, training_history_dict['loss'], label='Training Loss')\n",
    "plt.plot(epochs_range, training_history_dict['val_loss'], label='Validation Loss')\n",
    "plt.title('Training and Validation Loss')\n",
    "plt.xlabel('Epochs')\n",
    "plt.ylabel('Loss')\n",
    "plt.legend()"
   ],
   "metadata": {
    "colab": {
     "base_uri": "https://localhost:8080/",
     "height": 581
    },
    "id": "kkkATO-5J2g3",
    "outputId": "bf0d883b-8883-4f72-986c-7400fd90126a"
   },
   "execution_count": null,
   "outputs": [
    {
     "output_type": "execute_result",
     "data": {
      "text/plain": [
       "<matplotlib.legend.Legend at 0x7bece7cb83d0>"
      ]
     },
     "metadata": {},
     "execution_count": 20
    },
    {
     "output_type": "display_data",
     "data": {
      "text/plain": [
       "<Figure size 1600x600 with 1 Axes>"
      ],
      "image/png": "[encoded data removed]"
     },
     "metadata": {}
    }
   ]
  },
  {
   "cell_type": "code",
   "source": [
    "plt.figure(figsize=(16, 6))\n",
    "\n",
    "plt.subplot(1, 2, 2)\n",
    "plt.plot(epochs_range, training_history_dict['accuracy'], label='Training Accuracy')\n",
    "plt.plot(epochs_range, training_history_dict['val_accuracy'], label='Validation Accuracy')\n",
    "plt.title('Training and Validation Accuracy')\n",
    "plt.xlabel('Epochs')\n",
    "plt.ylabel('Accuracy')\n",
    "plt.legend()\n",
    "\n",
    "plt.tight_layout()\n",
    "plt.show()"
   ],
   "metadata": {
    "colab": {
     "base_uri": "https://localhost:8080/",
     "height": 607
    },
    "id": "AqGefzlJKUC-",
    "outputId": "4a907af6-1386-4f82-aa87-cb1cb822686c"
   },
   "execution_count": null,
   "outputs": [
    {
     "output_type": "display_data",
     "data": {
      "text/plain": [
       "<Figure size 1600x600 with 1 Axes>"
      ],
      "image/png": "[encoded data removed]"
     },
     "metadata": {}
    }
   ]
  },
  {
   "cell_type": "markdown",
   "source": [
    "Model optimization"
   ],
   "metadata": {
    "id": "NPkePBA0qhaa"
   }
  },
  {
   "cell_type": "code",
   "source": [
    "y_true = np.argmax(one_hot_test_labels, axis=1)\n",
    "y_pred_probabilities = best_model.predict(X_test)\n",
    "y_pred = np.argmax(y_pred_probabilities, axis=1)\n",
    "\n",
    "accuracy = accuracy_score(y_true, y_pred)\n",
    "precision = precision_score(y_true, y_pred, average='weighted')\n",
    "recall = recall_score(y_true, y_pred, average='weighted')\n",
    "f1 = f1_score(y_true, y_pred, average='weighted')\n",
    "\n",
    "print(f\"Accuracy: {accuracy:.4f}\")\n",
    "print(f\"Precision: {precision:.4f}\")\n",
    "print(f\"Recall: {recall:.4f}\")\n",
    "print(f\"F1-Score: {f1:.4f}\")\n",
    "\n",
    "print(\"\\nClassification Report:\")\n",
    "print(classification_report(y_true, y_pred))"
   ],
   "metadata": {
    "colab": {
     "base_uri": "https://localhost:8080/"
    },
    "id": "2jC5CVpFLCzb",
    "outputId": "3c962136-8b93-4bf9-cc61-562c9525d1bc"
   },
   "execution_count": null,
   "outputs": [
    {
     "output_type": "stream",
     "name": "stdout",
     "text": [
      "71/71 [==============================] - 0s 3ms/step\n",
      "Accuracy: 0.7346\n",
      "Precision: 0.7211\n",
      "Recall: 0.7346\n",
      "F1-Score: 0.7141\n",
      "\n",
      "Classification Report:\n",
      "              precision    recall  f1-score   support\n",
      "\n",
      "           0       0.64      0.58      0.61        12\n",
      "           1       0.60      0.75      0.67       105\n",
      "           2       0.60      0.15      0.24        20\n",
      "           3       0.85      0.95      0.90       813\n",
      "           4       0.84      0.84      0.84       474\n",
      "           5       0.00      0.00      0.00         5\n",
      "           6       0.91      0.71      0.80        14\n",
      "           7       1.00      0.33      0.50         3\n",
      "           8       0.35      0.74      0.48        38\n",
      "           9       1.00      0.36      0.53        25\n",
      "          10       0.58      0.63      0.60        30\n",
      "          11       0.68      0.59      0.63        83\n",
      "          12       0.00      0.00      0.00        13\n",
      "          13       0.50      0.57      0.53        37\n",
      "          14       0.50      0.50      0.50         2\n",
      "          15       0.33      0.11      0.17         9\n",
      "          16       0.73      0.59      0.65        99\n",
      "          17       1.00      0.25      0.40        12\n",
      "          18       0.41      0.35      0.38        20\n",
      "          19       0.53      0.74      0.62       133\n",
      "          20       0.66      0.36      0.46        70\n",
      "          21       0.49      0.67      0.56        27\n",
      "          22       0.00      0.00      0.00         7\n",
      "          23       0.25      0.08      0.12        12\n",
      "          24       0.50      0.21      0.30        19\n",
      "          25       0.63      0.39      0.48        31\n",
      "          26       0.00      0.00      0.00         8\n",
      "          27       0.00      0.00      0.00         4\n",
      "          28       0.25      0.20      0.22        10\n",
      "          29       0.00      0.00      0.00         4\n",
      "          30       0.17      0.17      0.17        12\n",
      "          31       0.83      0.38      0.53        13\n",
      "          32       0.60      0.30      0.40        10\n",
      "          33       1.00      0.80      0.89         5\n",
      "          34       0.12      0.14      0.13         7\n",
      "          35       1.00      0.17      0.29         6\n",
      "          36       0.67      0.18      0.29        11\n",
      "          37       0.00      0.00      0.00         2\n",
      "          38       0.00      0.00      0.00         3\n",
      "          39       0.00      0.00      0.00         5\n",
      "          40       0.00      0.00      0.00        10\n",
      "          41       0.20      0.12      0.15         8\n",
      "          42       0.00      0.00      0.00         3\n",
      "          43       0.00      0.00      0.00         6\n",
      "          44       0.00      0.00      0.00         5\n",
      "          45       1.00      1.00      1.00         1\n",
      "\n",
      "    accuracy                           0.73      2246\n",
      "   macro avg       0.44      0.32      0.35      2246\n",
      "weighted avg       0.72      0.73      0.71      2246\n"
     ]
    },
    {
     "output_type": "stream",
     "name": "stderr",
     "text": [
      "/usr/local/lib/python3.10/dist-packages/sklearn/metrics/_classification.py:1471: UndefinedMetricWarning: Precision is ill-defined and being set to 0.0 in labels with no predicted samples. Use `zero_division` parameter to control this behavior.\n",
      "  _warn_prf(average, modifier, msg_start, len(result))\n",
      "/usr/local/lib/python3.10/dist-packages/sklearn/metrics/_classification.py:1471: UndefinedMetricWarning: Precision and F-score are ill-defined and being set to 0.0 in labels with no predicted samples. Use `zero_division` parameter to control this behavior.\n",
      "  _warn_prf(average, modifier, msg_start, len(result))\n",
      "/usr/local/lib/python3.10/dist-packages/sklearn/metrics/_classification.py:1471: UndefinedMetricWarning: Precision and F-score are ill-defined and being set to 0.0 in labels with no predicted samples. Use `zero_division` parameter to control this behavior.\n",
      "  _warn_prf(average, modifier, msg_start, len(result))\n",
      "/usr/local/lib/python3.10/dist-packages/sklearn/metrics/_classification.py:1471: UndefinedMetricWarning: Precision and F-score are ill-defined and being set to 0.0 in labels with no predicted samples. Use `zero_division` parameter to control this behavior.\n",
      "  _warn_prf(average, modifier, msg_start, len(result))\n"
     ]
    }
   ]
  }
 ]
}
