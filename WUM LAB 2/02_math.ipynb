{
  "nbformat": 4,
  "nbformat_minor": 0,
  "metadata": {
    "colab": {
      "provenance": []
    },
    "kernelspec": {
      "name": "python3",
      "display_name": "Python 3"
    },
    "language_info": {
      "name": "python"
    }
  },
  "cells": [
    {
      "cell_type": "code",
      "execution_count": 1,
      "metadata": {
        "id": "JXtircPZ4NM_"
      },
      "outputs": [],
      "source": [
        "import numpy as np"
      ]
    },
    {
      "cell_type": "markdown",
      "source": [
        "### Iloczyn skalarny"
      ],
      "metadata": {
        "id": "Kc4PkrQW6Uvb"
      }
    },
    {
      "cell_type": "code",
      "source": [
        "a = np.array([2, -1, 3, 2, 5])\n",
        "b = np.array([-2, 3, 4, 3, 1])"
      ],
      "metadata": {
        "id": "-aGcvN005JKA"
      },
      "execution_count": 2,
      "outputs": []
    },
    {
      "cell_type": "code",
      "source": [
        "# źle - element-wise multiplication\n",
        "np.sum(a * b)"
      ],
      "metadata": {
        "colab": {
          "base_uri": "https://localhost:8080/"
        },
        "id": "pFJ57H8G7hDY",
        "outputId": "42104a53-a813-4c8b-b983-7da63836a373"
      },
      "execution_count": 4,
      "outputs": [
        {
          "output_type": "execute_result",
          "data": {
            "text/plain": [
              "16"
            ]
          },
          "metadata": {},
          "execution_count": 4
        }
      ]
    },
    {
      "cell_type": "code",
      "source": [
        "np.dot(a, b)"
      ],
      "metadata": {
        "colab": {
          "base_uri": "https://localhost:8080/"
        },
        "id": "4VxDrZqp6KoL",
        "outputId": "ab8e2a0c-a012-4348-831f-1b43f6bd8f73"
      },
      "execution_count": 5,
      "outputs": [
        {
          "output_type": "execute_result",
          "data": {
            "text/plain": [
              "16"
            ]
          },
          "metadata": {},
          "execution_count": 5
        }
      ]
    },
    {
      "cell_type": "code",
      "source": [
        "# długość wektora, inaczej norma\n",
        "vec = np.array([3, 2, -3, 5, -1])\n",
        "np.linalg.norm(vec)"
      ],
      "metadata": {
        "colab": {
          "base_uri": "https://localhost:8080/"
        },
        "id": "lJggxb76FfBb",
        "outputId": "b1c521ad-1872-4e98-999b-8149cc120e56"
      },
      "execution_count": 6,
      "outputs": [
        {
          "output_type": "execute_result",
          "data": {
            "text/plain": [
              "6.928203230275509"
            ]
          },
          "metadata": {},
          "execution_count": 6
        }
      ]
    },
    {
      "cell_type": "code",
      "source": [
        "# alternatywnie - pierwiastek z iloczynu skalarnego z samym sobą\n",
        "np.sqrt(np.dot(vec, vec))"
      ],
      "metadata": {
        "colab": {
          "base_uri": "https://localhost:8080/"
        },
        "id": "apwjLAdTWPYl",
        "outputId": "b468eb46-cd4c-4701-8e75-ee291bbdf696"
      },
      "execution_count": 7,
      "outputs": [
        {
          "output_type": "execute_result",
          "data": {
            "text/plain": [
              "6.928203230275509"
            ]
          },
          "metadata": {},
          "execution_count": 7
        }
      ]
    },
    {
      "cell_type": "markdown",
      "source": [
        "Inna definicja iloczynu skalarnego:\n",
        "\n",
        "a ∘ b =|a|⋅|b|⋅cos(α)\n",
        "\n",
        "gdzie | | oznacza normę (długość) wektora.\n",
        "\n",
        "Z powyższego wzoru można wyliczyć kąt między dwoma wektorami."
      ],
      "metadata": {
        "id": "2vQGByeSWjYN"
      }
    },
    {
      "cell_type": "code",
      "source": [
        "v1 = np.array([4, 0])\n",
        "v2 = np.array([2, 2])\n",
        "cos = np.dot(v1, v2) / (np.linalg.norm(v1) * np.linalg.norm(v2))\n",
        "np.degrees(np.arccos(cos))"
      ],
      "metadata": {
        "colab": {
          "base_uri": "https://localhost:8080/"
        },
        "id": "xY5fCgXeXQOT",
        "outputId": "3de9f046-200f-4207-f66e-53fff30b5695"
      },
      "execution_count": 8,
      "outputs": [
        {
          "output_type": "execute_result",
          "data": {
            "text/plain": [
              "45.00000000000001"
            ]
          },
          "metadata": {},
          "execution_count": 8
        }
      ]
    },
    {
      "cell_type": "code",
      "source": [
        "import matplotlib.pyplot as plt\n",
        "plt.plot([0, v1[0]], [0, v1[1]])\n",
        "plt.plot([0, v2[0]], [0, v2[1]])\n",
        "plt.xlim(-0.2, 4.2)\n",
        "plt.ylim(-0.2, 4.2)\n",
        "plt.grid()\n",
        "plt.show()"
      ],
      "metadata": {
        "colab": {
          "base_uri": "https://localhost:8080/",
          "height": 430
        },
        "id": "RkVXIg-obHAq",
        "outputId": "025080cc-1c7c-4cd3-84dc-f497709fa7d2"
      },
      "execution_count": 9,
      "outputs": [
        {
          "output_type": "display_data",
          "data": {
            "text/plain": [
              "<Figure size 640x480 with 1 Axes>"
            ],
            "image/png": "[encoded data removed]"
          },
          "metadata": {}
        }
      ]
    },
    {
      "cell_type": "markdown",
      "source": [
        "### Mnożenie macierzy"
      ],
      "metadata": {
        "id": "6-WFAHgB74E0"
      }
    },
    {
      "cell_type": "code",
      "source": [
        "A = np.array([\n",
        "    [2, 0],\n",
        "    [1, 2],\n",
        "    [-3, -1]\n",
        "])\n",
        "B = np.array([\n",
        "    [3, 1, 0],\n",
        "    [-1, 2, 5]\n",
        "])\n",
        "print(f\"Shape A: {A.shape}\")\n",
        "print(f\"Shape B: {B.shape}\")"
      ],
      "metadata": {
        "colab": {
          "base_uri": "https://localhost:8080/"
        },
        "id": "CJo11VL77-ci",
        "outputId": "f21d2fe9-6cd1-4f6e-d7ff-9ed6970cc8c8"
      },
      "execution_count": 10,
      "outputs": [
        {
          "output_type": "stream",
          "name": "stdout",
          "text": [
            "Shape A: (3, 2)\n",
            "Shape B: (2, 3)\n"
          ]
        }
      ]
    },
    {
      "cell_type": "code",
      "source": [
        "# A x B\n",
        "np.matmul(A, B)"
      ],
      "metadata": {
        "colab": {
          "base_uri": "https://localhost:8080/"
        },
        "id": "ativQBVr8U0K",
        "outputId": "3a14f7de-93c9-4f62-ba30-c5a829e2e33b"
      },
      "execution_count": 11,
      "outputs": [
        {
          "output_type": "execute_result",
          "data": {
            "text/plain": [
              "array([[ 6,  2,  0],\n",
              "       [ 1,  5, 10],\n",
              "       [-8, -5, -5]])"
            ]
          },
          "metadata": {},
          "execution_count": 11
        }
      ]
    },
    {
      "cell_type": "code",
      "source": [
        "# alternatywnie\n",
        "A@B"
      ],
      "metadata": {
        "colab": {
          "base_uri": "https://localhost:8080/"
        },
        "id": "asI3TYFp8i9f",
        "outputId": "733319db-7ff6-4a7e-9fe4-eda4566bacdc"
      },
      "execution_count": 12,
      "outputs": [
        {
          "output_type": "execute_result",
          "data": {
            "text/plain": [
              "array([[ 6,  2,  0],\n",
              "       [ 1,  5, 10],\n",
              "       [-8, -5, -5]])"
            ]
          },
          "metadata": {},
          "execution_count": 12
        }
      ]
    },
    {
      "cell_type": "code",
      "source": [
        "# źle - element-wise multiplication\n",
        "A*B"
      ],
      "metadata": {
        "colab": {
          "base_uri": "https://localhost:8080/",
          "height": 176
        },
        "id": "84_E2DuMi20-",
        "outputId": "8ab1a541-656c-4b0e-82db-71074fef6726"
      },
      "execution_count": 13,
      "outputs": [
        {
          "output_type": "error",
          "ename": "ValueError",
          "evalue": "ignored",
          "traceback": [
            "\u001b[0;31m---------------------------------------------------------------------------\u001b[0m",
            "\u001b[0;31mValueError\u001b[0m                                Traceback (most recent call last)",
            "\u001b[0;32m<ipython-input-13-47896efed660>\u001b[0m in \u001b[0;36m<cell line: 1>\u001b[0;34m()\u001b[0m\n\u001b[0;32m----> 1\u001b[0;31m \u001b[0mA\u001b[0m\u001b[0;34m*\u001b[0m\u001b[0mB\u001b[0m\u001b[0;34m\u001b[0m\u001b[0;34m\u001b[0m\u001b[0m\n\u001b[0m",
            "\u001b[0;31mValueError\u001b[0m: operands could not be broadcast together with shapes (3,2) (2,3) "
          ]
        }
      ]
    },
    {
      "cell_type": "code",
      "source": [
        "# B x A\n",
        "np.matmul(B, A)"
      ],
      "metadata": {
        "colab": {
          "base_uri": "https://localhost:8080/"
        },
        "id": "m7-ouET193qg",
        "outputId": "bcd72dac-4068-4260-bc45-d957dd761005"
      },
      "execution_count": 14,
      "outputs": [
        {
          "output_type": "execute_result",
          "data": {
            "text/plain": [
              "array([[  7,   2],\n",
              "       [-15,  -1]])"
            ]
          },
          "metadata": {},
          "execution_count": 14
        }
      ]
    },
    {
      "cell_type": "code",
      "source": [
        "# A^T x B^T\n",
        "np.matmul(A.T, B.T)"
      ],
      "metadata": {
        "colab": {
          "base_uri": "https://localhost:8080/"
        },
        "id": "h0rG66rJ-GEo",
        "outputId": "ae70fe86-4f0b-45df-fc50-cd42f729b59c"
      },
      "execution_count": 15,
      "outputs": [
        {
          "output_type": "execute_result",
          "data": {
            "text/plain": [
              "array([[  7, -15],\n",
              "       [  2,  -1]])"
            ]
          },
          "metadata": {},
          "execution_count": 15
        }
      ]
    },
    {
      "cell_type": "code",
      "source": [
        "# A^T x B wyrzuci wyjątek\n",
        "np.matmul(A.T, B)"
      ],
      "metadata": {
        "colab": {
          "base_uri": "https://localhost:8080/",
          "height": 211
        },
        "id": "iMxPn-Wh-SfR",
        "outputId": "cd5cab68-1451-4d83-eaa6-b04a10ab3b1a"
      },
      "execution_count": 16,
      "outputs": [
        {
          "output_type": "error",
          "ename": "ValueError",
          "evalue": "ignored",
          "traceback": [
            "\u001b[0;31m---------------------------------------------------------------------------\u001b[0m",
            "\u001b[0;31mValueError\u001b[0m                                Traceback (most recent call last)",
            "\u001b[0;32m<ipython-input-16-d5974693bcfe>\u001b[0m in \u001b[0;36m<cell line: 2>\u001b[0;34m()\u001b[0m\n\u001b[1;32m      1\u001b[0m \u001b[0;31m# A^T x B wyrzuci wyjątek\u001b[0m\u001b[0;34m\u001b[0m\u001b[0;34m\u001b[0m\u001b[0m\n\u001b[0;32m----> 2\u001b[0;31m \u001b[0mnp\u001b[0m\u001b[0;34m.\u001b[0m\u001b[0mmatmul\u001b[0m\u001b[0;34m(\u001b[0m\u001b[0mA\u001b[0m\u001b[0;34m.\u001b[0m\u001b[0mT\u001b[0m\u001b[0;34m,\u001b[0m \u001b[0mB\u001b[0m\u001b[0;34m)\u001b[0m\u001b[0;34m\u001b[0m\u001b[0;34m\u001b[0m\u001b[0m\n\u001b[0m",
            "\u001b[0;31mValueError\u001b[0m: matmul: Input operand 1 has a mismatch in its core dimension 0, with gufunc signature (n?,k),(k,m?)->(n?,m?) (size 2 is different from 3)"
          ]
        }
      ]
    },
    {
      "cell_type": "code",
      "source": [
        "# jako ciekawostka - jako mnożenie macierzy zadziała też np.dot()\n",
        "np.dot(A, B)"
      ],
      "metadata": {
        "colab": {
          "base_uri": "https://localhost:8080/"
        },
        "id": "kixNU2st8l0e",
        "outputId": "ffff9007-ef5d-4e50-bf7c-358edde071d6"
      },
      "execution_count": 17,
      "outputs": [
        {
          "output_type": "execute_result",
          "data": {
            "text/plain": [
              "array([[ 6,  2,  0],\n",
              "       [ 1,  5, 10],\n",
              "       [-8, -5, -5]])"
            ]
          },
          "metadata": {},
          "execution_count": 17
        }
      ]
    },
    {
      "cell_type": "markdown",
      "source": [
        "Z dokumentacji NumPy (https://numpy.org/doc/stable/reference/generated/numpy.dot.html)\n",
        "\n",
        "*   If both a and b are 2-D arrays, it is matrix multiplication, but using matmul or a @ b is preferred."
      ],
      "metadata": {
        "id": "-YL_3yIs9QVf"
      }
    },
    {
      "cell_type": "code",
      "source": [
        "# podobnie, matmul wyliczy iloczyn skalarny\n",
        "np.matmul(a, b)"
      ],
      "metadata": {
        "colab": {
          "base_uri": "https://localhost:8080/"
        },
        "id": "UaUgSyvo9Agy",
        "outputId": "5497d3ae-3636-4f37-cf07-d5df74fe50bf"
      },
      "execution_count": 18,
      "outputs": [
        {
          "output_type": "execute_result",
          "data": {
            "text/plain": [
              "16"
            ]
          },
          "metadata": {},
          "execution_count": 18
        }
      ]
    },
    {
      "cell_type": "markdown",
      "source": [
        "Z dokumentacji NumPy (https://numpy.org/doc/stable/reference/generated/numpy.matmul.html)\n",
        "\n",
        "\n",
        "\n",
        "*   If the first argument is 1-D, it is promoted to a matrix by prepending a 1 to its dimensions. After matrix multiplication the prepended 1 is removed.\n",
        "*   If the second argument is 1-D, it is promoted to a matrix by appending a 1 to its dimensions. After matrix multiplication the appended 1 is removed.\n",
        "\n",
        "Powyższe jest pomocne przy mnożeniu macierzy z wektorem.\n",
        "\n"
      ],
      "metadata": {
        "id": "j3GQwbO49jC_"
      }
    },
    {
      "cell_type": "markdown",
      "source": [
        "### Pochodne"
      ],
      "metadata": {
        "id": "DeqzCwXq9zpW"
      }
    },
    {
      "cell_type": "code",
      "source": [
        "import sympy as sp"
      ],
      "metadata": {
        "id": "0CPFCh4TFyyy"
      },
      "execution_count": 19,
      "outputs": []
    },
    {
      "cell_type": "code",
      "source": [
        "x = sp.Symbol('x')\n",
        "f = 3*x**3 + x**2/2 + 2/x + 5 + sp.exp(x) + 2**x + sp.sqrt(x)\n",
        "f"
      ],
      "metadata": {
        "colab": {
          "base_uri": "https://localhost:8080/",
          "height": 54
        },
        "id": "U5zjDmYBF3oR",
        "outputId": "2dcf2a25-f2a7-4af7-fba3-38e971cc90d3"
      },
      "execution_count": 20,
      "outputs": [
        {
          "output_type": "execute_result",
          "data": {
            "text/plain": [
              "2**x + sqrt(x) + 3*x**3 + x**2/2 + exp(x) + 5 + 2/x"
            ],
            "text/latex": "$\\displaystyle 2^{x} + \\sqrt{x} + 3 x^{3} + \\frac{x^{2}}{2} + e^{x} + 5 + \\frac{2}{x}$"
          },
          "metadata": {},
          "execution_count": 20
        }
      ]
    },
    {
      "cell_type": "code",
      "source": [
        "df_dx = f.diff(x)\n",
        "df_dx"
      ],
      "metadata": {
        "colab": {
          "base_uri": "https://localhost:8080/",
          "height": 55
        },
        "id": "8enhJrExGeOt",
        "outputId": "d9fbac1f-790c-4377-d602-ea05daac172c"
      },
      "execution_count": 21,
      "outputs": [
        {
          "output_type": "execute_result",
          "data": {
            "text/plain": [
              "2**x*log(2) + 9*x**2 + x + exp(x) - 2/x**2 + 1/(2*sqrt(x))"
            ],
            "text/latex": "$\\displaystyle 2^{x} \\log{\\left(2 \\right)} + 9 x^{2} + x + e^{x} - \\frac{2}{x^{2}} + \\frac{1}{2 \\sqrt{x}}$"
          },
          "metadata": {},
          "execution_count": 21
        }
      ]
    },
    {
      "cell_type": "code",
      "source": [
        "# pochodna iloczynu\n",
        "f = 5*sp.ln(x) * sp.sin(x)\n",
        "f"
      ],
      "metadata": {
        "colab": {
          "base_uri": "https://localhost:8080/",
          "height": 39
        },
        "id": "DulYXlN8Gptq",
        "outputId": "2349495e-acfc-4ef9-d24a-d79dee7ca0b9"
      },
      "execution_count": 22,
      "outputs": [
        {
          "output_type": "execute_result",
          "data": {
            "text/plain": [
              "5*log(x)*sin(x)"
            ],
            "text/latex": "$\\displaystyle 5 \\log{\\left(x \\right)} \\sin{\\left(x \\right)}$"
          },
          "metadata": {},
          "execution_count": 22
        }
      ]
    },
    {
      "cell_type": "code",
      "source": [
        "df_dx = f.diff(x)\n",
        "df_dx"
      ],
      "metadata": {
        "colab": {
          "base_uri": "https://localhost:8080/",
          "height": 53
        },
        "id": "ya5_NNXkHCYq",
        "outputId": "5d7a3716-ae42-4429-fd82-615fbdc3a9b0"
      },
      "execution_count": 23,
      "outputs": [
        {
          "output_type": "execute_result",
          "data": {
            "text/plain": [
              "5*log(x)*cos(x) + 5*sin(x)/x"
            ],
            "text/latex": "$\\displaystyle 5 \\log{\\left(x \\right)} \\cos{\\left(x \\right)} + \\frac{5 \\sin{\\left(x \\right)}}{x}$"
          },
          "metadata": {},
          "execution_count": 23
        }
      ]
    },
    {
      "cell_type": "code",
      "source": [
        "# pochodna ilorazu\n",
        "f = (x**2 + 2*x + 5) / (3*x + 4)\n",
        "f"
      ],
      "metadata": {
        "colab": {
          "base_uri": "https://localhost:8080/",
          "height": 55
        },
        "id": "GX39UYKSHL-5",
        "outputId": "0a7fe489-431c-4ba1-c161-e314b64dd946"
      },
      "execution_count": 24,
      "outputs": [
        {
          "output_type": "execute_result",
          "data": {
            "text/plain": [
              "(x**2 + 2*x + 5)/(3*x + 4)"
            ],
            "text/latex": "$\\displaystyle \\frac{x^{2} + 2 x + 5}{3 x + 4}$"
          },
          "metadata": {},
          "execution_count": 24
        }
      ]
    },
    {
      "cell_type": "code",
      "source": [
        "df_dx = f.diff(x)\n",
        "df_dx"
      ],
      "metadata": {
        "colab": {
          "base_uri": "https://localhost:8080/",
          "height": 62
        },
        "id": "65Ude_VKHhmq",
        "outputId": "cae5b582-1ce7-4d18-8728-48b26e4a3813"
      },
      "execution_count": 25,
      "outputs": [
        {
          "output_type": "execute_result",
          "data": {
            "text/plain": [
              "(2*x + 2)/(3*x + 4) - 3*(x**2 + 2*x + 5)/(3*x + 4)**2"
            ],
            "text/latex": "$\\displaystyle \\frac{2 x + 2}{3 x + 4} - \\frac{3 \\left(x^{2} + 2 x + 5\\right)}{\\left(3 x + 4\\right)^{2}}$"
          },
          "metadata": {},
          "execution_count": 25
        }
      ]
    },
    {
      "cell_type": "code",
      "source": [
        "# reguła łańcuchowa\n",
        "f = sp.cos(5*x**2 + x + 2)\n",
        "f"
      ],
      "metadata": {
        "colab": {
          "base_uri": "https://localhost:8080/",
          "height": 39
        },
        "id": "DS-jnuQ5InR-",
        "outputId": "dcdeb5ef-03ab-456c-d846-eb22dfeb37e8"
      },
      "execution_count": 26,
      "outputs": [
        {
          "output_type": "execute_result",
          "data": {
            "text/plain": [
              "cos(5*x**2 + x + 2)"
            ],
            "text/latex": "$\\displaystyle \\cos{\\left(5 x^{2} + x + 2 \\right)}$"
          },
          "metadata": {},
          "execution_count": 26
        }
      ]
    },
    {
      "cell_type": "code",
      "source": [
        "df_dx = f.diff(x)\n",
        "df_dx"
      ],
      "metadata": {
        "colab": {
          "base_uri": "https://localhost:8080/",
          "height": 39
        },
        "id": "hwTSZqWDIw5x",
        "outputId": "e594109d-8f0d-45ab-e637-1c6d90a770e0"
      },
      "execution_count": 27,
      "outputs": [
        {
          "output_type": "execute_result",
          "data": {
            "text/plain": [
              "-(10*x + 1)*sin(5*x**2 + x + 2)"
            ],
            "text/latex": "$\\displaystyle - \\left(10 x + 1\\right) \\sin{\\left(5 x^{2} + x + 2 \\right)}$"
          },
          "metadata": {},
          "execution_count": 27
        }
      ]
    }
  ]
}